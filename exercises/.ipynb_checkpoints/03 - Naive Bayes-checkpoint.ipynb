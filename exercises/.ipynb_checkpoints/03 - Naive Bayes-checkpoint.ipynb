{
 "cells": [
  {
   "cell_type": "code",
   "execution_count": 1,
   "metadata": {},
   "outputs": [],
   "source": [
    "%matplotlib inline\n",
    "import pandas as pd\n",
    "import matplotlib.pyplot as plt\n",
    "from sklearn.model_selection import train_test_split\n",
    "from sklearn.metrics import classification_report,confusion_matrix\n",
    "from sklearn.linear_model import LogisticRegression\n",
    "from sklearn.naive_bayes import MultinomialNB\n",
    "import seaborn as sns\n",
    "import numpy as np"
   ]
  },
  {
   "cell_type": "markdown",
   "metadata": {},
   "source": [
    "# Cancer Inhibitors dataset\n",
    "Following dataset is coming from https://www.kaggle.com/xiaotawkaggle/inhibitors\n",
    "\n",
    "On Leho there is an adapted csv of the cdk2.h5 dataset. The adaptations I already did for you was extracting the data out of the .h5 file. Renaming the columns, add in the IDs of each of the compounds (row names) and combine it with the target into a .csv file.\n",
    "\n",
    "For cdk2, 1890 potential inhibitors are collected from chembl database, in which molecules with IC50 lower than 10 uM are usually considered as inhibitors, otherwise non-inhibitors.\n",
    "\n",
    "The rownames represent the CHEMBL Id, which can be used to search the CHEMBL database: https://www.ebi.ac.uk/chembl/\n",
    "\n",
    "The features are split into 3 categories that represent three different sets of molecular fingerprints calculated by RDKIT. For more information: http://www.rdkit.org/docs/GettingStartedInPython.html#topological-fingerprints\n",
    "* ap: Atom Pairs\n",
    "* mg: Morgan Fingerprints (Circular Fingerprints)\n",
    "* tt: Topological Torsions\n",
    "\n",
    "The actual values represent if a molecular fingerprint is present in a specific molecule or not (1: present, 0: not present)\n",
    "\n",
    "The target column indicated if the molecule is considered an inhibitor or not."
   ]
  },
  {
   "cell_type": "code",
   "execution_count": 2,
   "metadata": {},
   "outputs": [
    {
     "data": {
      "text/html": [
       "<div>\n",
       "<style scoped>\n",
       "    .dataframe tbody tr th:only-of-type {\n",
       "        vertical-align: middle;\n",
       "    }\n",
       "\n",
       "    .dataframe tbody tr th {\n",
       "        vertical-align: top;\n",
       "    }\n",
       "\n",
       "    .dataframe thead th {\n",
       "        text-align: right;\n",
       "    }\n",
       "</style>\n",
       "<table border=\"1\" class=\"dataframe\">\n",
       "  <thead>\n",
       "    <tr style=\"text-align: right;\">\n",
       "      <th></th>\n",
       "      <th>ap_1</th>\n",
       "      <th>ap_2</th>\n",
       "      <th>ap_3</th>\n",
       "      <th>ap_4</th>\n",
       "      <th>ap_5</th>\n",
       "      <th>ap_6</th>\n",
       "      <th>ap_7</th>\n",
       "      <th>ap_8</th>\n",
       "      <th>ap_9</th>\n",
       "      <th>ap_10</th>\n",
       "      <th>...</th>\n",
       "      <th>tt_2031</th>\n",
       "      <th>tt_2032</th>\n",
       "      <th>tt_2033</th>\n",
       "      <th>tt_2034</th>\n",
       "      <th>tt_2035</th>\n",
       "      <th>tt_2036</th>\n",
       "      <th>tt_2037</th>\n",
       "      <th>tt_2038</th>\n",
       "      <th>tt_2039</th>\n",
       "      <th>target</th>\n",
       "    </tr>\n",
       "  </thead>\n",
       "  <tbody>\n",
       "    <tr>\n",
       "      <th>CHEMBL405042</th>\n",
       "      <td>0</td>\n",
       "      <td>0</td>\n",
       "      <td>0</td>\n",
       "      <td>0</td>\n",
       "      <td>0</td>\n",
       "      <td>0</td>\n",
       "      <td>0</td>\n",
       "      <td>0</td>\n",
       "      <td>0</td>\n",
       "      <td>0</td>\n",
       "      <td>...</td>\n",
       "      <td>0</td>\n",
       "      <td>0</td>\n",
       "      <td>0</td>\n",
       "      <td>0</td>\n",
       "      <td>0</td>\n",
       "      <td>0</td>\n",
       "      <td>0</td>\n",
       "      <td>0</td>\n",
       "      <td>0</td>\n",
       "      <td>1</td>\n",
       "    </tr>\n",
       "    <tr>\n",
       "      <th>CHEMBL258805</th>\n",
       "      <td>0</td>\n",
       "      <td>0</td>\n",
       "      <td>0</td>\n",
       "      <td>0</td>\n",
       "      <td>0</td>\n",
       "      <td>0</td>\n",
       "      <td>0</td>\n",
       "      <td>0</td>\n",
       "      <td>0</td>\n",
       "      <td>0</td>\n",
       "      <td>...</td>\n",
       "      <td>0</td>\n",
       "      <td>0</td>\n",
       "      <td>0</td>\n",
       "      <td>0</td>\n",
       "      <td>0</td>\n",
       "      <td>0</td>\n",
       "      <td>0</td>\n",
       "      <td>0</td>\n",
       "      <td>0</td>\n",
       "      <td>1</td>\n",
       "    </tr>\n",
       "    <tr>\n",
       "      <th>CHEMBL318485</th>\n",
       "      <td>1</td>\n",
       "      <td>0</td>\n",
       "      <td>0</td>\n",
       "      <td>0</td>\n",
       "      <td>0</td>\n",
       "      <td>0</td>\n",
       "      <td>0</td>\n",
       "      <td>0</td>\n",
       "      <td>0</td>\n",
       "      <td>0</td>\n",
       "      <td>...</td>\n",
       "      <td>0</td>\n",
       "      <td>0</td>\n",
       "      <td>0</td>\n",
       "      <td>0</td>\n",
       "      <td>0</td>\n",
       "      <td>0</td>\n",
       "      <td>0</td>\n",
       "      <td>1</td>\n",
       "      <td>0</td>\n",
       "      <td>0</td>\n",
       "    </tr>\n",
       "    <tr>\n",
       "      <th>CHEMBL260417</th>\n",
       "      <td>0</td>\n",
       "      <td>0</td>\n",
       "      <td>0</td>\n",
       "      <td>0</td>\n",
       "      <td>0</td>\n",
       "      <td>0</td>\n",
       "      <td>0</td>\n",
       "      <td>0</td>\n",
       "      <td>0</td>\n",
       "      <td>0</td>\n",
       "      <td>...</td>\n",
       "      <td>0</td>\n",
       "      <td>0</td>\n",
       "      <td>0</td>\n",
       "      <td>0</td>\n",
       "      <td>0</td>\n",
       "      <td>0</td>\n",
       "      <td>0</td>\n",
       "      <td>0</td>\n",
       "      <td>0</td>\n",
       "      <td>1</td>\n",
       "    </tr>\n",
       "    <tr>\n",
       "      <th>CHEMBL101557</th>\n",
       "      <td>1</td>\n",
       "      <td>0</td>\n",
       "      <td>0</td>\n",
       "      <td>0</td>\n",
       "      <td>0</td>\n",
       "      <td>0</td>\n",
       "      <td>0</td>\n",
       "      <td>0</td>\n",
       "      <td>0</td>\n",
       "      <td>0</td>\n",
       "      <td>...</td>\n",
       "      <td>0</td>\n",
       "      <td>0</td>\n",
       "      <td>0</td>\n",
       "      <td>0</td>\n",
       "      <td>0</td>\n",
       "      <td>0</td>\n",
       "      <td>0</td>\n",
       "      <td>1</td>\n",
       "      <td>0</td>\n",
       "      <td>0</td>\n",
       "    </tr>\n",
       "  </tbody>\n",
       "</table>\n",
       "<p>5 rows × 6118 columns</p>\n",
       "</div>"
      ],
      "text/plain": [
       "              ap_1  ap_2  ap_3  ap_4  ap_5  ap_6  ap_7  ap_8  ap_9  ap_10  \\\n",
       "CHEMBL405042     0     0     0     0     0     0     0     0     0      0   \n",
       "CHEMBL258805     0     0     0     0     0     0     0     0     0      0   \n",
       "CHEMBL318485     1     0     0     0     0     0     0     0     0      0   \n",
       "CHEMBL260417     0     0     0     0     0     0     0     0     0      0   \n",
       "CHEMBL101557     1     0     0     0     0     0     0     0     0      0   \n",
       "\n",
       "              ...  tt_2031  tt_2032  tt_2033  tt_2034  tt_2035  tt_2036  \\\n",
       "CHEMBL405042  ...        0        0        0        0        0        0   \n",
       "CHEMBL258805  ...        0        0        0        0        0        0   \n",
       "CHEMBL318485  ...        0        0        0        0        0        0   \n",
       "CHEMBL260417  ...        0        0        0        0        0        0   \n",
       "CHEMBL101557  ...        0        0        0        0        0        0   \n",
       "\n",
       "              tt_2037  tt_2038  tt_2039  target  \n",
       "CHEMBL405042        0        0        0       1  \n",
       "CHEMBL258805        0        0        0       1  \n",
       "CHEMBL318485        0        1        0       0  \n",
       "CHEMBL260417        0        0        0       1  \n",
       "CHEMBL101557        0        1        0       0  \n",
       "\n",
       "[5 rows x 6118 columns]"
      ]
     },
     "execution_count": 2,
     "metadata": {},
     "output_type": "execute_result"
    }
   ],
   "source": [
    "# Read in the data, because we have row names in our dataset, use pd.read_csv('filename.csv',index_col=0)\n",
    "cdk2_data = pd.read_csv(\"../exercises/data/cdk2.csv\", index_col=0)\n",
    "# Take a look at the first rows of the dataframe\n",
    "cdk2_data.head()"
   ]
  },
  {
   "cell_type": "code",
   "execution_count": 3,
   "metadata": {},
   "outputs": [
    {
     "name": "stdout",
     "output_type": "stream",
     "text": [
      "rows, columns (1890, 6118)\n"
     ]
    }
   ],
   "source": [
    "# Take a look at the number of rows and columns in the dataframe\n",
    "print(\"rows, columns\", cdk2_data.shape)"
   ]
  },
  {
   "cell_type": "code",
   "execution_count": 4,
   "metadata": {},
   "outputs": [
    {
     "data": {
      "text/plain": [
       "<Axes: xlabel='target', ylabel='count'>"
      ]
     },
     "execution_count": 4,
     "metadata": {},
     "output_type": "execute_result"
    },
    {
     "data": {
      "image/png": "[encoded data removed]",
      "text/plain": [
       "<Figure size 640x480 with 1 Axes>"
      ]
     },
     "metadata": {},
     "output_type": "display_data"
    }
   ],
   "source": [
    "# Plot the counts of the target column using a seaborn countplot\n",
    "sns.countplot(data=cdk2_data,x=\"target\")\n",
    "# This is a little bit unbalanced, but we will not look at this"
   ]
  },
  {
   "cell_type": "code",
   "execution_count": 5,
   "metadata": {},
   "outputs": [
    {
     "data": {
      "text/plain": [
       "<Axes: xlabel='ap_1', ylabel='count'>"
      ]
     },
     "execution_count": 5,
     "metadata": {},
     "output_type": "execute_result"
    },
    {
     "data": {
      "image/png": "[encoded data removed]",
      "text/plain": [
       "<Figure size 640x480 with 1 Axes>"
      ]
     },
     "metadata": {},
     "output_type": "display_data"
    }
   ],
   "source": [
    "# Plot a countplot of the first feature column (ap_1)\n",
    "sns.countplot(data=cdk2_data,x=\"ap_1\")\n",
    "# This looks strange, and is not optimal. But, we will leave this like it is. "
   ]
  },
  {
   "cell_type": "markdown",
   "metadata": {},
   "source": [
    "**What is noteworthy of the plot above?**\n",
    "\n"
   ]
  },
  {
   "cell_type": "markdown",
   "metadata": {},
   "source": [
    "**Notes:**\n",
    "Due to the amount of columns, a df.describe() will not show you a lot of information.\n",
    "\n",
    "Pairplots and corrplots would be gigantic and also not very informative due to it being sparse data.\n",
    "\n",
    "Removing outliers would not be a good idea, since a lot of the values that are different from 0 would already be considered outliers, whilst these are just the informative things.\n",
    "    "
   ]
  },
  {
   "cell_type": "code",
   "execution_count": 6,
   "metadata": {},
   "outputs": [],
   "source": [
    "# Split into features and targets\n",
    "X=cdk2_data.drop(\"target\",axis=1)\n",
    "y=cdk2_data[\"target\"]"
   ]
  },
  {
   "cell_type": "code",
   "execution_count": 7,
   "metadata": {},
   "outputs": [],
   "source": [
    "# Split into training and test set. Keep +-20% as a test_set\n",
    "X_train, X_test, y_train, y_test = train_test_split(X,y,test_size=0.2,random_state=1)"
   ]
  },
  {
   "cell_type": "code",
   "execution_count": 9,
   "metadata": {},
   "outputs": [
    {
     "name": "stdout",
     "output_type": "stream",
     "text": [
      "0.7883597883597884\n"
     ]
    }
   ],
   "source": [
    "# Create a multinomial naive bayes classifier\n",
    "model = MultinomialNB(alpha=1)\n",
    "\n",
    "# Fit the training data\n",
    "model.fit(X_train,y_train)\n",
    "\n",
    "# Show the score of the test data\n",
    "print(model.score(X_test,y_test))"
   ]
  },
  {
   "cell_type": "code",
   "execution_count": 12,
   "metadata": {},
   "outputs": [
    {
     "name": "stdout",
     "output_type": "stream",
     "text": [
      "[[110  24]\n",
      " [ 56 188]]\n"
     ]
    },
    {
     "data": {
      "image/png": "[encoded data removed]",
      "text/plain": [
       "<Figure size 640x480 with 2 Axes>"
      ]
     },
     "metadata": {},
     "output_type": "display_data"
    },
    {
     "name": "stdout",
     "output_type": "stream",
     "text": [
      "              precision    recall  f1-score   support\n",
      "\n",
      "           0       0.66      0.82      0.73       134\n",
      "           1       0.89      0.77      0.82       244\n",
      "\n",
      "    accuracy                           0.79       378\n",
      "   macro avg       0.77      0.80      0.78       378\n",
      "weighted avg       0.81      0.79      0.79       378\n",
      "\n",
      "CPU times: user 596 ms, sys: 310 ms, total: 907 ms\n",
      "Wall time: 627 ms\n"
     ]
    }
   ],
   "source": [
    "%%time\n",
    "# Predict values for the test set\n",
    "model.predict(X_test)\n",
    "\n",
    "# Print a confusion matrix and classification report\n",
    "from sklearn.metrics import confusion_matrix,accuracy_score,ConfusionMatrixDisplay,recall_score,precision_score,f1_score\n",
    "print(cf:=confusion_matrix(y_test,model.predict(X_test)))\n",
    "matrix = ConfusionMatrixDisplay(cf,display_labels=model.classes_)\n",
    "matrix.plot()\n",
    "plt.show()\n",
    "\n",
    "from sklearn.metrics import classification_report\n",
    "print(classification_report(y_test, model.predict(X_test)))"
   ]
  },
  {
   "cell_type": "code",
   "execution_count": 15,
   "metadata": {},
   "outputs": [
    {
     "name": "stdout",
     "output_type": "stream",
     "text": [
      "0.8677248677248677\n",
      "[[102  32]\n",
      " [ 18 226]]\n"
     ]
    },
    {
     "data": {
      "image/png": "[encoded data removed]",
      "text/plain": [
       "<Figure size 640x480 with 2 Axes>"
      ]
     },
     "metadata": {},
     "output_type": "display_data"
    },
    {
     "name": "stdout",
     "output_type": "stream",
     "text": [
      "              precision    recall  f1-score   support\n",
      "\n",
      "           0       0.85      0.76      0.80       134\n",
      "           1       0.88      0.93      0.90       244\n",
      "\n",
      "    accuracy                           0.87       378\n",
      "   macro avg       0.86      0.84      0.85       378\n",
      "weighted avg       0.87      0.87      0.87       378\n",
      "\n",
      "CPU times: user 28 s, sys: 5.03 s, total: 33 s\n",
      "Wall time: 10.2 s\n"
     ]
    }
   ],
   "source": [
    "%%time\n",
    "# Train a logistic regression model on the data and test it as you did for the naive bayes model\n",
    "# I had a warning about iterations. max_iter = 100 default. Increasing this parameter will get rid of the warning\n",
    "logReg_model = LogisticRegression(C=1,max_iter=1000) \n",
    "logReg_model.fit(X_train,y_train)\n",
    "print(logReg_model.score(X_test,y_test))\n",
    "logReg_model.predict(X_test)\n",
    "\n",
    "print(cf:=confusion_matrix(y_test,logReg_model.predict(X_test)))\n",
    "matrix = ConfusionMatrixDisplay(cf,display_labels=logReg_model.classes_)\n",
    "matrix.plot()\n",
    "plt.show()\n",
    "\n",
    "print(classification_report(y_test, logReg_model.predict(X_test)))"
   ]
  },
  {
   "cell_type": "markdown",
   "metadata": {},
   "source": [
    "Also try and play with the hyperparameters a bit\n",
    "\n",
    "## Conclusion\n",
    "**What can we conclude regarding the metrics of both models**\n",
    "\n",
    "\n",
    "**What can we conclude regarding the time it takes to train the model?**\n",
    "\n"
   ]
  },
  {
   "cell_type": "markdown",
   "metadata": {},
   "source": [
    "# MNIST dataset\n",
    "MNIST is the \"hello world\" of AI.\n",
    "\n",
    "MNIST is a dataset containing a lot of handwritten digits. The goal is to correctly identify the written digit from the image. There is a lot of different sets and subsets available online. The data that we will be using is coming from\n",
    "https://www.kaggle.com/c/digit-recognizer/data\n",
    "\n",
    "Each image contains 28x28 pixels => 784 values between 0 (black) and 255 (white)\n",
    "\n",
    "Some initial code is given as to show you how to display the images"
   ]
  },
  {
   "cell_type": "code",
   "execution_count": 39,
   "metadata": {},
   "outputs": [],
   "source": [
    "# Read in the dataset\n",
    "df = pd.read_csv(\"data/MNIST.csv\")"
   ]
  },
  {
   "cell_type": "code",
   "execution_count": 40,
   "metadata": {},
   "outputs": [
    {
     "data": {
      "text/html": [
       "<div>\n",
       "<style scoped>\n",
       "    .dataframe tbody tr th:only-of-type {\n",
       "        vertical-align: middle;\n",
       "    }\n",
       "\n",
       "    .dataframe tbody tr th {\n",
       "        vertical-align: top;\n",
       "    }\n",
       "\n",
       "    .dataframe thead th {\n",
       "        text-align: right;\n",
       "    }\n",
       "</style>\n",
       "<table border=\"1\" class=\"dataframe\">\n",
       "  <thead>\n",
       "    <tr style=\"text-align: right;\">\n",
       "      <th></th>\n",
       "      <th>label</th>\n",
       "      <th>pixel0</th>\n",
       "      <th>pixel1</th>\n",
       "      <th>pixel2</th>\n",
       "      <th>pixel3</th>\n",
       "      <th>pixel4</th>\n",
       "      <th>pixel5</th>\n",
       "      <th>pixel6</th>\n",
       "      <th>pixel7</th>\n",
       "      <th>pixel8</th>\n",
       "      <th>...</th>\n",
       "      <th>pixel774</th>\n",
       "      <th>pixel775</th>\n",
       "      <th>pixel776</th>\n",
       "      <th>pixel777</th>\n",
       "      <th>pixel778</th>\n",
       "      <th>pixel779</th>\n",
       "      <th>pixel780</th>\n",
       "      <th>pixel781</th>\n",
       "      <th>pixel782</th>\n",
       "      <th>pixel783</th>\n",
       "    </tr>\n",
       "  </thead>\n",
       "  <tbody>\n",
       "    <tr>\n",
       "      <th>0</th>\n",
       "      <td>1</td>\n",
       "      <td>0</td>\n",
       "      <td>0</td>\n",
       "      <td>0</td>\n",
       "      <td>0</td>\n",
       "      <td>0</td>\n",
       "      <td>0</td>\n",
       "      <td>0</td>\n",
       "      <td>0</td>\n",
       "      <td>0</td>\n",
       "      <td>...</td>\n",
       "      <td>0</td>\n",
       "      <td>0</td>\n",
       "      <td>0</td>\n",
       "      <td>0</td>\n",
       "      <td>0</td>\n",
       "      <td>0</td>\n",
       "      <td>0</td>\n",
       "      <td>0</td>\n",
       "      <td>0</td>\n",
       "      <td>0</td>\n",
       "    </tr>\n",
       "    <tr>\n",
       "      <th>1</th>\n",
       "      <td>0</td>\n",
       "      <td>0</td>\n",
       "      <td>0</td>\n",
       "      <td>0</td>\n",
       "      <td>0</td>\n",
       "      <td>0</td>\n",
       "      <td>0</td>\n",
       "      <td>0</td>\n",
       "      <td>0</td>\n",
       "      <td>0</td>\n",
       "      <td>...</td>\n",
       "      <td>0</td>\n",
       "      <td>0</td>\n",
       "      <td>0</td>\n",
       "      <td>0</td>\n",
       "      <td>0</td>\n",
       "      <td>0</td>\n",
       "      <td>0</td>\n",
       "      <td>0</td>\n",
       "      <td>0</td>\n",
       "      <td>0</td>\n",
       "    </tr>\n",
       "    <tr>\n",
       "      <th>2</th>\n",
       "      <td>1</td>\n",
       "      <td>0</td>\n",
       "      <td>0</td>\n",
       "      <td>0</td>\n",
       "      <td>0</td>\n",
       "      <td>0</td>\n",
       "      <td>0</td>\n",
       "      <td>0</td>\n",
       "      <td>0</td>\n",
       "      <td>0</td>\n",
       "      <td>...</td>\n",
       "      <td>0</td>\n",
       "      <td>0</td>\n",
       "      <td>0</td>\n",
       "      <td>0</td>\n",
       "      <td>0</td>\n",
       "      <td>0</td>\n",
       "      <td>0</td>\n",
       "      <td>0</td>\n",
       "      <td>0</td>\n",
       "      <td>0</td>\n",
       "    </tr>\n",
       "    <tr>\n",
       "      <th>3</th>\n",
       "      <td>4</td>\n",
       "      <td>0</td>\n",
       "      <td>0</td>\n",
       "      <td>0</td>\n",
       "      <td>0</td>\n",
       "      <td>0</td>\n",
       "      <td>0</td>\n",
       "      <td>0</td>\n",
       "      <td>0</td>\n",
       "      <td>0</td>\n",
       "      <td>...</td>\n",
       "      <td>0</td>\n",
       "      <td>0</td>\n",
       "      <td>0</td>\n",
       "      <td>0</td>\n",
       "      <td>0</td>\n",
       "      <td>0</td>\n",
       "      <td>0</td>\n",
       "      <td>0</td>\n",
       "      <td>0</td>\n",
       "      <td>0</td>\n",
       "    </tr>\n",
       "    <tr>\n",
       "      <th>4</th>\n",
       "      <td>0</td>\n",
       "      <td>0</td>\n",
       "      <td>0</td>\n",
       "      <td>0</td>\n",
       "      <td>0</td>\n",
       "      <td>0</td>\n",
       "      <td>0</td>\n",
       "      <td>0</td>\n",
       "      <td>0</td>\n",
       "      <td>0</td>\n",
       "      <td>...</td>\n",
       "      <td>0</td>\n",
       "      <td>0</td>\n",
       "      <td>0</td>\n",
       "      <td>0</td>\n",
       "      <td>0</td>\n",
       "      <td>0</td>\n",
       "      <td>0</td>\n",
       "      <td>0</td>\n",
       "      <td>0</td>\n",
       "      <td>0</td>\n",
       "    </tr>\n",
       "  </tbody>\n",
       "</table>\n",
       "<p>5 rows × 785 columns</p>\n",
       "</div>"
      ],
      "text/plain": [
       "   label  pixel0  pixel1  pixel2  pixel3  pixel4  pixel5  pixel6  pixel7  \\\n",
       "0      1       0       0       0       0       0       0       0       0   \n",
       "1      0       0       0       0       0       0       0       0       0   \n",
       "2      1       0       0       0       0       0       0       0       0   \n",
       "3      4       0       0       0       0       0       0       0       0   \n",
       "4      0       0       0       0       0       0       0       0       0   \n",
       "\n",
       "   pixel8  ...  pixel774  pixel775  pixel776  pixel777  pixel778  pixel779  \\\n",
       "0       0  ...         0         0         0         0         0         0   \n",
       "1       0  ...         0         0         0         0         0         0   \n",
       "2       0  ...         0         0         0         0         0         0   \n",
       "3       0  ...         0         0         0         0         0         0   \n",
       "4       0  ...         0         0         0         0         0         0   \n",
       "\n",
       "   pixel780  pixel781  pixel782  pixel783  \n",
       "0         0         0         0         0  \n",
       "1         0         0         0         0  \n",
       "2         0         0         0         0  \n",
       "3         0         0         0         0  \n",
       "4         0         0         0         0  \n",
       "\n",
       "[5 rows x 785 columns]"
      ]
     },
     "execution_count": 40,
     "metadata": {},
     "output_type": "execute_result"
    }
   ],
   "source": [
    "# Take a look at the first rows of the dataset\n",
    "df.head()"
   ]
  },
  {
   "cell_type": "code",
   "execution_count": 41,
   "metadata": {},
   "outputs": [
    {
     "data": {
      "text/plain": [
       "<Axes: xlabel='label', ylabel='count'>"
      ]
     },
     "execution_count": 41,
     "metadata": {},
     "output_type": "execute_result"
    },
    {
     "data": {
      "image/png": "[encoded data removed]",
      "text/plain": [
       "<Figure size 640x480 with 1 Axes>"
      ]
     },
     "metadata": {},
     "output_type": "display_data"
    }
   ],
   "source": [
    "# Countplot of the numbers\n",
    "sns.countplot(x=\"label\",data=df)"
   ]
  },
  {
   "cell_type": "code",
   "execution_count": 42,
   "metadata": {},
   "outputs": [],
   "source": [
    "# Split into features and targets\n",
    "X = df.drop(\"label\",axis=1)\n",
    "y = df.label"
   ]
  },
  {
   "cell_type": "code",
   "execution_count": 43,
   "metadata": {},
   "outputs": [
    {
     "name": "stdout",
     "output_type": "stream",
     "text": [
      "Label: 4\n"
     ]
    },
    {
     "data": {
      "image/png": "[encoded data removed]",
      "text/plain": [
       "<Figure size 640x480 with 1 Axes>"
      ]
     },
     "metadata": {},
     "output_type": "display_data"
    }
   ],
   "source": [
    "# Change this value to see another sample\n",
    "row_num_X = 3\n",
    "\n",
    "# Extract the image from X\n",
    "single_image= X.iloc[row_num_X,:]  ## Row row_num_X, column all (:)\n",
    "\n",
    "# Convert the single array of 784 pixels into nested arrays as to creat a 28x28 array\n",
    "# [p0,p1,p2,p3,...,p784] becomes\n",
    "\n",
    "# [[p0,p1,p2,p3,...,p27]\n",
    "#  [p28,p29,p30,    ...]\n",
    "#  ...\n",
    "#  [          ..., p783]]\n",
    "single_image_to_28x28 = single_image.values.reshape(28,28)\n",
    "\n",
    "# Show the image\n",
    "plt.imshow(single_image_to_28x28,cmap='Greys')\n",
    "# Also print the corresponding label\n",
    "print(f\"Label: {y[row_num_X]}\")"
   ]
  },
  {
   "cell_type": "code",
   "execution_count": 44,
   "metadata": {},
   "outputs": [],
   "source": [
    "# Split into training and test set. Keep +-20% as a test_set\n",
    "X_train, X_test, y_train, y_test = train_test_split(X,y,test_size=0.2,random_state=1)"
   ]
  },
  {
   "cell_type": "code",
   "execution_count": 48,
   "metadata": {},
   "outputs": [
    {
     "name": "stdout",
     "output_type": "stream",
     "text": [
      "0.8277380952380953\n",
      "0.8257738095238095\n",
      "CPU times: user 896 ms, sys: 496 ms, total: 1.39 s\n",
      "Wall time: 965 ms\n"
     ]
    }
   ],
   "source": [
    "%%time\n",
    "# Train a multinomial naive bayes model on the data and test it using the test data\n",
    "model = MultinomialNB(alpha=1)\n",
    "model.fit(X_train,y_train)\n",
    "print(model.score(X_test,y_test))\n",
    "print(model.score(X_train,y_train))"
   ]
  },
  {
   "cell_type": "code",
   "execution_count": 49,
   "metadata": {},
   "outputs": [
    {
     "name": "stdout",
     "output_type": "stream",
     "text": [
      "[[780   0   6   5   0   9  17   0  36   0]\n",
      " [  0 882   3   5   0   4   6   0  40   0]\n",
      " [ 10  10 701  20  10   2  32   8  40   2]\n",
      " [  4  14  50 695   2  23   9   8  46  22]\n",
      " [  0   0   8   0 609   0  16   3  34 159]\n",
      " [ 18   5   6  93  21 491  11   1  64  21]\n",
      " [  8  16   5   0   4  20 734   0  13   0]\n",
      " [  2  14  11   4  17   0   1 705  31  65]\n",
      " [  4  46   8  47   9  39   6   0 658  29]\n",
      " [  3   9   2   7  57   5   1  32  29 698]]\n"
     ]
    },
    {
     "data": {
      "image/png": "[encoded data removed]",
      "text/plain": [
       "<Figure size 640x480 with 2 Axes>"
      ]
     },
     "metadata": {},
     "output_type": "display_data"
    },
    {
     "name": "stdout",
     "output_type": "stream",
     "text": [
      "              precision    recall  f1-score   support\n",
      "\n",
      "           0       0.94      0.91      0.93       853\n",
      "           1       0.89      0.94      0.91       940\n",
      "           2       0.88      0.84      0.86       835\n",
      "           3       0.79      0.80      0.79       873\n",
      "           4       0.84      0.73      0.78       829\n",
      "           5       0.83      0.67      0.74       731\n",
      "           6       0.88      0.92      0.90       800\n",
      "           7       0.93      0.83      0.88       850\n",
      "           8       0.66      0.78      0.72       846\n",
      "           9       0.70      0.83      0.76       843\n",
      "\n",
      "    accuracy                           0.83      8400\n",
      "   macro avg       0.83      0.82      0.83      8400\n",
      "weighted avg       0.83      0.83      0.83      8400\n",
      "\n"
     ]
    }
   ],
   "source": [
    "# Predict values for the test set\n",
    "model.predict(X_test)\n",
    "# Print a confusion matrix and classification report\n",
    "print(cf:=confusion_matrix(y_test,model.predict(X_test)))\n",
    "matrix = ConfusionMatrixDisplay(cf,display_labels=model.classes_)\n",
    "matrix.plot()\n",
    "plt.show()\n",
    "\n",
    "print(classification_report(y_test, model.predict(X_test)))"
   ]
  },
  {
   "cell_type": "code",
   "execution_count": 34,
   "metadata": {},
   "outputs": [],
   "source": [
    "# Before performing logistec regression, scaling the data, because it took to long and took too much itetations, even with warnings\n",
    "from sklearn.preprocessing import MinMaxScaler, StandardScaler, RobustScaler\n",
    "scaler = StandardScaler()\n",
    "scaler.fit(X_train) # niet op volledige data doen, anders test je geen nieuwe data in je scaler.fit\n",
    "X_train = scaler.transform(X_train)\n",
    "X_test = scaler.transform(X_test)"
   ]
  },
  {
   "cell_type": "code",
   "execution_count": 35,
   "metadata": {},
   "outputs": [
    {
     "name": "stdout",
     "output_type": "stream",
     "text": [
      "Score of the testset: 0.9084523809523809\n",
      "Score of the trainingset: 0.9571428571428572\n",
      "CPU times: user 53.7 s, sys: 15.5 s, total: 1min 9s\n",
      "Wall time: 20.3 s\n"
     ]
    },
    {
     "data": {
      "text/plain": [
       "array([1, 5, 2, ..., 8, 8, 8])"
      ]
     },
     "execution_count": 35,
     "metadata": {},
     "output_type": "execute_result"
    }
   ],
   "source": [
    "%%time\n",
    "# Also try it using a logistic regression model\n",
    "model = LogisticRegression(C=1, max_iter=1000)\n",
    "model.fit(X_train,y_train)\n",
    "print(\"Score of the testset:\",model.score(X_test,y_test))\n",
    "print(\"Score of the trainingset:\", model.score(X_train,y_train))\n",
    "model.predict(X_test)"
   ]
  },
  {
   "cell_type": "code",
   "execution_count": 36,
   "metadata": {},
   "outputs": [
    {
     "name": "stdout",
     "output_type": "stream",
     "text": [
      "[[812   0   7   0   2  11  14   2   2   3]\n",
      " [  0 911   7   6   0   2   2   2   9   1]\n",
      " [  6  16 743  24   4   2   9  15  15   1]\n",
      " [  3   2  27 769   0  34   1  12  19   6]\n",
      " [  1   3  14   1 758   0   8   7   4  33]\n",
      " [ 11   4  10  28   7 632  10   6  18   5]\n",
      " [  3   1   7   1  14  14 756   1   3   0]\n",
      " [  0   2   8   5   8   0   0 787   3  37]\n",
      " [  8  18  17  26   6  31   8   3 713  16]\n",
      " [  2   4   2   7  29   8   0  33   8 750]]\n"
     ]
    },
    {
     "data": {
      "image/png": "[encoded data removed]",
      "text/plain": [
       "<Figure size 640x480 with 2 Axes>"
      ]
     },
     "metadata": {},
     "output_type": "display_data"
    },
    {
     "name": "stdout",
     "output_type": "stream",
     "text": [
      "              precision    recall  f1-score   support\n",
      "\n",
      "           0       0.96      0.95      0.96       853\n",
      "           1       0.95      0.97      0.96       940\n",
      "           2       0.88      0.89      0.89       835\n",
      "           3       0.89      0.88      0.88       873\n",
      "           4       0.92      0.91      0.91       829\n",
      "           5       0.86      0.86      0.86       731\n",
      "           6       0.94      0.94      0.94       800\n",
      "           7       0.91      0.93      0.92       850\n",
      "           8       0.90      0.84      0.87       846\n",
      "           9       0.88      0.89      0.88       843\n",
      "\n",
      "    accuracy                           0.91      8400\n",
      "   macro avg       0.91      0.91      0.91      8400\n",
      "weighted avg       0.91      0.91      0.91      8400\n",
      "\n"
     ]
    }
   ],
   "source": [
    "print(cf:=confusion_matrix(y_test,model.predict(X_test)))\n",
    "matrix = ConfusionMatrixDisplay(cf,display_labels=model.classes_)\n",
    "matrix.plot()\n",
    "plt.show()\n",
    "\n",
    "print(classification_report(y_test, model.predict(X_test)))"
   ]
  },
  {
   "cell_type": "markdown",
   "metadata": {},
   "source": [
    "Following code let's you draw a number and predict it using your model\n",
    "\n",
    "The model should be called 'model' or be renamed in the code below\n",
    "\n",
    "Note that you need packages pillow and tkinter\n",
    "\n",
    "`conda install pillow tk` or `pip3 install pillow tk` or `sudo dnf install python3-pillow python3-tkinter`"
   ]
  },
  {
   "cell_type": "code",
   "execution_count": 47,
   "metadata": {},
   "outputs": [
    {
     "name": "stderr",
     "output_type": "stream",
     "text": [
      "/home/guest/miniconda3/envs/bit07/lib/python3.12/site-packages/sklearn/base.py:493: UserWarning: X does not have valid feature names, but MultinomialNB was fitted with feature names\n",
      "  warnings.warn(\n"
     ]
    },
    {
     "name": "stdout",
     "output_type": "stream",
     "text": [
      "[6]\n"
     ]
    },
    {
     "name": "stderr",
     "output_type": "stream",
     "text": [
      "/home/guest/miniconda3/envs/bit07/lib/python3.12/site-packages/sklearn/base.py:493: UserWarning: X does not have valid feature names, but MultinomialNB was fitted with feature names\n",
      "  warnings.warn(\n"
     ]
    },
    {
     "name": "stdout",
     "output_type": "stream",
     "text": [
      "[9]\n"
     ]
    },
    {
     "name": "stderr",
     "output_type": "stream",
     "text": [
      "/home/guest/miniconda3/envs/bit07/lib/python3.12/site-packages/sklearn/base.py:493: UserWarning: X does not have valid feature names, but MultinomialNB was fitted with feature names\n",
      "  warnings.warn(\n"
     ]
    },
    {
     "name": "stdout",
     "output_type": "stream",
     "text": [
      "[9]\n"
     ]
    },
    {
     "name": "stderr",
     "output_type": "stream",
     "text": [
      "/home/guest/miniconda3/envs/bit07/lib/python3.12/site-packages/sklearn/base.py:493: UserWarning: X does not have valid feature names, but MultinomialNB was fitted with feature names\n",
      "  warnings.warn(\n"
     ]
    },
    {
     "name": "stdout",
     "output_type": "stream",
     "text": [
      "[9]\n"
     ]
    },
    {
     "name": "stderr",
     "output_type": "stream",
     "text": [
      "/home/guest/miniconda3/envs/bit07/lib/python3.12/site-packages/sklearn/base.py:493: UserWarning: X does not have valid feature names, but MultinomialNB was fitted with feature names\n",
      "  warnings.warn(\n"
     ]
    },
    {
     "name": "stdout",
     "output_type": "stream",
     "text": [
      "[9]\n"
     ]
    },
    {
     "name": "stderr",
     "output_type": "stream",
     "text": [
      "/home/guest/miniconda3/envs/bit07/lib/python3.12/site-packages/sklearn/base.py:493: UserWarning: X does not have valid feature names, but MultinomialNB was fitted with feature names\n",
      "  warnings.warn(\n"
     ]
    },
    {
     "name": "stdout",
     "output_type": "stream",
     "text": [
      "[2]\n"
     ]
    },
    {
     "name": "stderr",
     "output_type": "stream",
     "text": [
      "/home/guest/miniconda3/envs/bit07/lib/python3.12/site-packages/sklearn/base.py:493: UserWarning: X does not have valid feature names, but MultinomialNB was fitted with feature names\n",
      "  warnings.warn(\n"
     ]
    },
    {
     "name": "stdout",
     "output_type": "stream",
     "text": [
      "[8]\n"
     ]
    }
   ],
   "source": [
    "from PIL import ImageTk, Image, ImageDraw, ImageChops\n",
    "import PIL\n",
    "from tkinter import *\n",
    "\n",
    "width = 280  # canvas width\n",
    "height = 280 # canvas height\n",
    "center = height//2\n",
    "white = (255) # canvas back\n",
    "\n",
    "def predict():\n",
    "    op2 = ImageChops.invert(output_image)\n",
    "    op2=op2.resize((28,28),resample=3)\n",
    "    # Show the image\n",
    "    plt.imshow(op2,cmap='Greys')\n",
    "    op2_array = np.asarray(op2).reshape(1,-1)\n",
    "    print(model.predict(op2_array))\n",
    "    \n",
    "def clear():\n",
    "    plt.close()\n",
    "    canvas.delete(\"all\")\n",
    "    draw.rectangle((0,0,width,height),fill=255)\n",
    "    \n",
    "def paint(event):\n",
    "    x1, y1 = (event.x - 1), (event.y - 1)\n",
    "    x2, y2 = (event.x + 1), (event.y + 1)\n",
    "    canvas.create_oval(x1, y1, x2, y2, fill=\"black\",width=25)\n",
    "    draw.line([x1, y1, x2, y2],fill=\"black\",width=25)\n",
    "\n",
    "master = Tk()\n",
    "\n",
    "# create a tkinter canvas to draw on\n",
    "canvas = Canvas(master, width=width, height=height, bg='white')\n",
    "canvas.pack()\n",
    "\n",
    "# create an empty PIL image and draw object to draw on\n",
    "output_image = PIL.Image.new(\"L\", (width, height), white)\n",
    "draw = ImageDraw.Draw(output_image)\n",
    "canvas.pack(expand=YES, fill=BOTH)\n",
    "canvas.bind(\"<B1-Motion>\", paint)\n",
    "\n",
    "# add a button to save the image\n",
    "button=Button(text=\"predict\",command=predict)\n",
    "button.pack()\n",
    "button=Button(text=\"clear\",command=clear)\n",
    "button.pack()\n",
    "\n",
    "master.mainloop()"
   ]
  },
  {
   "cell_type": "code",
   "execution_count": 38,
   "metadata": {},
   "outputs": [],
   "source": [
    "from PIL import ImageChops"
   ]
  },
  {
   "cell_type": "code",
   "execution_count": null,
   "metadata": {},
   "outputs": [],
   "source": []
  }
 ],
 "metadata": {
  "kernelspec": {
   "display_name": "Python 3 (ipykernel)",
   "language": "python",
   "name": "python3"
  },
  "language_info": {
   "codemirror_mode": {
    "name": "ipython",
    "version": 3
   },
   "file_extension": ".py",
   "mimetype": "text/x-python",
   "name": "python",
   "nbconvert_exporter": "python",
   "pygments_lexer": "ipython3",
   "version": "3.12.1"
  }
 },
 "nbformat": 4,
 "nbformat_minor": 4
}
