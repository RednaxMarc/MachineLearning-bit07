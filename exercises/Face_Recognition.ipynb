{
 "cells": [
  {
   "cell_type": "markdown",
   "metadata": {},
   "source": [
    "#  Face recognition through Eigenfaces\n",
    "\n",
    "The goal of this exercise is to have a good performing model for face recognition using Eigenfaces. This technique was often used in the earliest of computer vision techniques to perform face recognition.\n",
    "By now, Eigenfaces have been replaced by techniques based on convolutional neural networks.\n",
    "\n",
    "Here we have a dataset that is already split up into a training and test set. The faces are coming from 50 different people and each person has 15 pictures original data: http://www.anefian.com/research/face_reco.htm\n",
    "\n",
    "Some preprocessing has already been performed like cropping and rotation.\n",
    "\n",
    "From the filename of each picture, the persons ID can be determined. E.g. person22_15.jpg is the 15th picture of the 22th person.\n",
    "\n",
    "Goals of this exercise:\n",
    "* Read in the images and extract the ID of the person from the filenames\n",
    "* Convert the image to black and white\n",
    "* Scale the images to the same size (150x110)\n",
    "* Transform the data so the images are converted to a single array of all pixel values\n",
    "* Convert the faces to eigenfaces using PCA\n",
    "* Train different types of classifiers on the PCA data, also perform some hyperparameter tuning and/or ensemble learning\n",
    "* Test and compare the classifiers"
   ]
  },
  {
   "cell_type": "code",
   "execution_count": 1,
   "metadata": {},
   "outputs": [],
   "source": [
    "%matplotlib inline\n",
    "import os\n",
    "import numpy as np\n",
    "import pandas as pd\n",
    "import matplotlib.pyplot as plt\n",
    "from sklearn.model_selection import train_test_split\n",
    "from sklearn.metrics import classification_report\n",
    "from sklearn.metrics import confusion_matrix, accuracy_score\n",
    "from sklearn import preprocessing\n",
    "from sklearn.linear_model import LogisticRegressionCV\n",
    "from sklearn import svm\n",
    "import seaborn as sns\n",
    "import matplotlib.image as mpimg\n",
    "from skimage import transform\n",
    "from scipy import ndimage\n",
    "from skimage.io import imread, imshow\n",
    "from sklearn import linear_model, datasets\n",
    "from sklearn import model_selection\n",
    "from sklearn.ensemble import BaggingClassifier\n",
    "from sklearn.tree import DecisionTreeClassifier\n",
    "from sklearn.ensemble import AdaBoostClassifier\n",
    "from sklearn.ensemble import RandomForestClassifier\n",
    "from sklearn.model_selection import GridSearchCV"
   ]
  },
  {
   "cell_type": "code",
   "execution_count": 19,
   "metadata": {},
   "outputs": [
    {
     "data": {
      "text/plain": [
       "array([[0.11704392, 0.11312235, 0.12488706, ..., 0.21675686, 0.2246    ,\n",
       "        0.22067843],\n",
       "       [0.13665176, 0.12096549, 0.12096549, ..., 0.23244314, 0.23636471,\n",
       "        0.23244314],\n",
       "       [0.14841647, 0.12880863, 0.11704392, ..., 0.23579922, 0.24028627,\n",
       "        0.23636471],\n",
       "       ...,\n",
       "       [0.5374702 , 0.5492349 , 0.56099961, ..., 0.17348549, 0.16956392,\n",
       "        0.16956392],\n",
       "       [0.57449843, 0.59410627, 0.61538078, ..., 0.16956392, 0.16172078,\n",
       "        0.15779922],\n",
       "       [0.56026353, 0.57987137, 0.60450196, ..., 0.16956392, 0.16564235,\n",
       "        0.15779922]])"
      ]
     },
     "execution_count": 19,
     "metadata": {},
     "output_type": "execute_result"
    }
   ],
   "source": [
    "# Read in the training images\n",
    "training_images = [] # empty list\n",
    "test_images = [] # empty list\n",
    "y_train = [] # empty list\n",
    "y_test = [] # empty list\n",
    "\n",
    "# To list files in a directory you can use os.listdir(\"path here\")\n",
    "# y_train and y_test will have to be parsed from the filename (e.g. person01_02_.jpg -> 1 (or 01), person13_05_.jpg -> 13)\n",
    "# Reading in the images can be done using the imread() function from skimage.io: https://scikit-image.org/docs/dev/api/skimage.io.html#skimage.io.imread\n",
    "# Note the parameter as_gray in this function. Use this to convert the image to black and white.\n",
    "# The result will be a 2D array that  contains all the pixel values between 0 and 1"
   ]
  },
  {
   "cell_type": "code",
   "execution_count": null,
   "metadata": {},
   "outputs": [],
   "source": [
    "# Show a single image using plt.imshow(image,cmap='gray')\n",
    "# Image is the result of the imread you used above\n"
   ]
  },
  {
   "cell_type": "code",
   "execution_count": null,
   "metadata": {},
   "outputs": [],
   "source": [
    "# Resize the images to 150 rows * 110 columns\n",
    "# Use the transform.resize function from skimage with mode=constant\n",
    "# https://scikit-image.org/docs/dev/api/skimage.transform.html#skimage.transform.resize\n"
   ]
  },
  {
   "cell_type": "code",
   "execution_count": null,
   "metadata": {},
   "outputs": [],
   "source": [
    "# Reshape the images to a single dimension using the reshape function\n",
    "# Note: https://numpy.org/doc/stable/reference/generated/numpy.ndarray.reshape.html\n"
   ]
  },
  {
   "cell_type": "code",
   "execution_count": null,
   "metadata": {},
   "outputs": [],
   "source": [
    "# Dimensionality reduction: Perform Principle Component Analysis with 40 components\n",
    "# Train the PCA algorithm on the training data\n",
    "# Transform both the training and the test set to 40 components; Hint: save into a seperate variable\n"
   ]
  },
  {
   "cell_type": "code",
   "execution_count": null,
   "metadata": {},
   "outputs": [],
   "source": [
    "# Visualize 10 principle components (the 10 first Eigenfaces)\n"
   ]
  },
  {
   "cell_type": "code",
   "execution_count": null,
   "metadata": {},
   "outputs": [],
   "source": [
    "# Show the PCA values for a single face\n",
    "# What do these values represent?\n"
   ]
  },
  {
   "cell_type": "code",
   "execution_count": null,
   "metadata": {},
   "outputs": [],
   "source": [
    "# Show how much variance is explained in total by the principal components\n"
   ]
  },
  {
   "cell_type": "code",
   "execution_count": null,
   "metadata": {},
   "outputs": [],
   "source": [
    "# Generate a combined graph of the explained variance in function of the principal component.\n",
    "# Barplot for the variance of the single component as well as the cumulative explained variance\n"
   ]
  },
  {
   "cell_type": "code",
   "execution_count": null,
   "metadata": {},
   "outputs": [],
   "source": [
    "# Try and reconstruct a face using the eigenfaces\n"
   ]
  },
  {
   "cell_type": "markdown",
   "metadata": {},
   "source": [
    "## Classification\n",
    "\n",
    "Train multiple classifiers of choice (logistic regression, naive bayes, random forest trees, ensembles) for the recognition of the faces. Use the PCA values as features. Perform cross-validation for the optimal hyperparameters.\n",
    "\n",
    "Also try following things:\n",
    "* Vary the number of components, what happens when you decrease or increase the number?\n",
    "* Does the number of components affect the time it takes to train a model?\n",
    "* Visualize a few wrongly classified faces\n"
   ]
  },
  {
   "cell_type": "code",
   "execution_count": null,
   "metadata": {},
   "outputs": [],
   "source": []
  },
  {
   "cell_type": "markdown",
   "metadata": {},
   "source": [
    "### Change the number of components\n",
    "also take a look at the time it takes for less or more components and the accuracy"
   ]
  },
  {
   "cell_type": "code",
   "execution_count": 14,
   "metadata": {},
   "outputs": [
    {
     "name": "stdout",
     "output_type": "stream",
     "text": [
      "Using %%time at the beginning of a cell you can time how long it takes to execute that cell\n",
      "Or you can time pieces of code yourself using time\n",
      "Time taken: 1.01s\n",
      "Wall time: 2.02 s\n"
     ]
    }
   ],
   "source": [
    "%%time\n",
    "\n",
    "print(\"Using %%time at the beginning of a cell you can time how long it takes to execute that cell\")\n",
    "# Fill some time\n",
    "from time import time,sleep\n",
    "sleep(1)\n",
    "\n",
    "print(\"Or you can time pieces of code yourself using time\")\n",
    "start=time()\n",
    "sleep(1)\n",
    "print(f\"Time taken: {round(time()-start,2)}s\")"
   ]
  },
  {
   "cell_type": "code",
   "execution_count": null,
   "metadata": {},
   "outputs": [],
   "source": []
  },
  {
   "cell_type": "markdown",
   "metadata": {},
   "source": [
    "### Some wrongly classified faces\n",
    "Use your best model from the things you tried above and take a look at the faces that are wrongly classified"
   ]
  },
  {
   "cell_type": "code",
   "execution_count": null,
   "metadata": {},
   "outputs": [],
   "source": []
  }
 ],
 "metadata": {
  "kernelspec": {
   "display_name": "Python 3 (ipykernel)",
   "language": "python",
   "name": "python3"
  },
  "language_info": {
   "codemirror_mode": {
    "name": "ipython",
    "version": 3
   },
   "file_extension": ".py",
   "mimetype": "text/x-python",
   "name": "python",
   "nbconvert_exporter": "python",
   "pygments_lexer": "ipython3",
   "version": "3.12.1"
  }
 },
 "nbformat": 4,
 "nbformat_minor": 4
}
